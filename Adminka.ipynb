{
 "cells": [
  {
   "cell_type": "code",
   "execution_count": 2,
   "metadata": {
    "collapsed": false
   },
   "outputs": [],
   "source": [
    "import os, os.path\n",
    "import re\n",
    "import codecs\n",
    "import itertools\n",
    "from datetime import datetime\n",
    "\n",
    "messages = []\n",
    "\n",
    "\n",
    "for (dirpath, dirnames, filenames) in os.walk(r'output\\data'):\n",
    "    for d in dirnames:\n",
    "        logname = os.path.join(dirpath, d, 'log.txt')\n",
    "        if not os.path.exists(logname):\n",
    "            continue\n",
    "        with codecs.open(logname, 'r', 'utf8') as f:\n",
    "            for line in f:\n",
    "                m = re.match(r'(\\d\\d\\d\\d).(\\d\\d).(\\d\\d) (\\d\\d):(\\d\\d):(\\d\\d)\\s+\\[user\\s+(?P<user>-?\\d+)', line)\n",
    "                if m:\n",
    "                    dt = datetime(year = int(m.group(1)), month = int(m.group(2)), day = int(m.group(3)),\n",
    "                                  hour= int(m.group(4)), minute=int(m.group(5)), second=int(m.group(6)))\n",
    "                    messages.append((dt, int(d), int(m.group('user')), line))\n",
    "    break\n",
    "messages = sorted(messages, key = lambda m: m[0])"
   ]
  },
  {
   "cell_type": "code",
   "execution_count": 29,
   "metadata": {
    "collapsed": false
   },
   "outputs": [
    {
     "name": "stdout",
     "output_type": "stream",
     "text": [
      "2015-12-05 12:48:41\n"
     ]
    }
   ],
   "source": []
  },
  {
   "cell_type": "code",
   "execution_count": 32,
   "metadata": {
    "collapsed": false
   },
   "outputs": [
    {
     "name": "stdout",
     "output_type": "stream",
     "text": [
      "total count messages: 8049\n",
      "total count chats: 71\n",
      "total count users: 106\n"
     ]
    }
   ],
   "source": [
    "print('total count messages:', len(messages))\n",
    "print('total count chats:', len(set([m[1] for m in messages])))\n",
    "print('total count users:', len(set([m[2] for m in messages])))"
   ]
  },
  {
   "cell_type": "code",
   "execution_count": 45,
   "metadata": {
    "collapsed": false
   },
   "outputs": [
    {
     "name": "stdout",
     "output_type": "stream",
     "text": [
      "2015-11-29 chats 24 + 24 users: 31 + 31\n",
      "2015-11-30 chats 22 + 9 users: 35 + 17\n",
      "2015-12-01 chats 29 + 17 users: 44 + 26\n",
      "2015-12-02 chats 37 + 18 users: 65 + 28\n",
      "2015-12-03 chats 17 + 2 users: 31 + 2\n",
      "2015-12-05 chats 11 + 1 users: 15 + 2\n"
     ]
    }
   ],
   "source": [
    "dates = sorted(set([m[0].date() for m in messages]))\n",
    "for d in dates:\n",
    "    nchats = len(set([m[1] for m in messages if m[0].date()==d]))\n",
    "    new_chats = len(set([m[1] for m in messages if m[0].date()<=d]) - set([m[1] for m in messages if m[0].date()<d]))\n",
    "    nusers = len(set([m[2] for m in messages if m[0].date()==d]))\n",
    "    new_users = len(set([m[2] for m in messages if m[0].date()<=d]) - set([m[2] for m in messages if m[0].date()<d]))\n",
    "    \n",
    "    print(d, 'chats',nchats,'+',new_chats,'users:',nusers,'+',new_users)"
   ]
  },
  {
   "cell_type": "code",
   "execution_count": null,
   "metadata": {
    "collapsed": false
   },
   "outputs": [],
   "source": [
    "for chat_id in set([m[1] for m in messages]):\n",
    "    print(chat_id,'\\t', len([m for m in messages if m[1]==chat_id]))"
   ]
  },
  {
   "cell_type": "code",
   "execution_count": 4,
   "metadata": {
    "collapsed": false
   },
   "outputs": [
    {
     "name": "stdout",
     "output_type": "stream",
     "text": [
      "-21090744\n",
      "     2015.12.01 21:51:04 [user 1129005 Р.] /task\n",
      "\n",
      "     2015.12.01 21:51:06 [user 98431259 Кристина] Клин\n",
      "\n",
      "     2015.12.01 21:51:14 [user 1129005 Р.] /hint\n",
      "\n",
      "     2015.12.01 21:51:19 [user 98431259 Кристина] Лото\n",
      "\n",
      "     2015.12.01 21:51:23 [user 94001931 Стас] Ок\n",
      "\n",
      "     2015.12.01 21:51:25 [user 1129005 Р.] Рнк\n",
      "\n",
      "     2015.12.01 21:51:28 [user 98431259 Кристина] Слон\n",
      "\n",
      "     2015.12.01 21:51:35 [user 98431259 Кристина] Стол\n",
      "\n",
      "     2015.12.01 21:51:38 [user 98431259 Кристина] Ном\n",
      "\n",
      "     2015.12.01 21:51:39 [user 39188200 Сулиета] Ринк\n",
      "\n",
      "     2015.12.01 21:51:42 [user 98431259 Кристина] Нос\n",
      "\n",
      "     2015.12.01 21:51:45 [user 98431259 Кристина] Сон\n",
      "\n",
      "     2015.12.01 21:51:50 [user 39188200 Сулиета] Мир\n",
      "\n",
      "     2015.12.01 21:51:52 [user 98431259 Кристина] Кроь\n",
      "\n",
      "     2015.12.01 21:51:53 [user 1129005 Р.] /task\n",
      "\n",
      "     2015.12.01 21:51:57 [user 98431259 Кристина] Стог\n",
      "\n",
      "     2015.12.01 21:52:01 [user 94001931 Стас] 😄\n",
      "\n",
      "     2015.12.01 21:52:03 [user 1129005 Р.] Сто\n",
      "\n",
      "     2015.12.01 21:52:10 [user 98431259 Кристина] Сон\n",
      "\n",
      "     2015.12.01 21:52:10 [user 1129005 Р.] Тос\n",
      "\n",
      "     2015.12.01 21:52:16 [user 98431259 Кристина] Хол\n",
      "\n",
      "     2015.12.01 21:52:22 [user 98431259 Кристина] Кол\n",
      "\n",
      "     2015.12.01 21:52:25 [user 98431259 Кристина] Сито\n",
      "\n",
      "-6295339\n",
      "     2015.12.01 21:51:11 [user 109468145 Victor] Аист\n",
      "\n",
      "     2015.12.01 21:51:48 [user 109468145 Victor] Член\n",
      "\n",
      "     2015.12.01 21:51:55 [user 148292593 Maxim] Лоооо\n",
      "\n",
      "     2015.12.01 21:51:57 [user 148292593 Maxim] О\n",
      "\n",
      "     2015.12.01 21:51:59 [user 109468145 Victor] Членство\n",
      "\n",
      "     2015.12.01 21:52:00 [user 148292593 Maxim] Лол\n",
      "\n"
     ]
    }
   ],
   "source": [
    "t0 = datetime.strptime('2015.12.01 21:51:00','%Y.%m.%d %H:%M:%S')\n",
    "t1 = datetime.strptime('2015.12.01 21:52:25','%Y.%m.%d %H:%M:%S')\n",
    "before_error = [m for m in messages if m[0]<=t1 and m[0]>t0]\n",
    "for (chat_id,chat_mess) in itertools.groupby(sorted(before_error, key=lambda m: m[1]), key=lambda m: m[1]):\n",
    "    print(chat_id)\n",
    "    for m in chat_mess:\n",
    "        print('    ',m[3])\n"
   ]
  },
  {
   "cell_type": "code",
   "execution_count": 10,
   "metadata": {
    "collapsed": false
   },
   "outputs": [
    {
     "name": "stdout",
     "output_type": "stream",
     "text": [
      "new chats: 8 from 27\n",
      "52899086 set()\n",
      "152999440 {152999440}\n",
      "-29830127 {163222464, 143308017, 172795673}\n",
      "-40709103 {98822352, 136725356}\n",
      "29985060 set()\n",
      "-54333396 {52727081, 226450, 179859686}\n",
      "1129005 {1129005}\n",
      "-45806290 {106892389, 64154958, 102428626, 47609491, 65979414, 51916632}\n",
      "90642222 {90642222}\n",
      "140890798 {140890798}\n",
      "-15401678 {53831791, 54705135, 62096897, 63043327}\n",
      "70204214 {70204214}\n",
      "54170301 {54170301}\n",
      "88737727 {88737727}\n",
      "55817279 set()\n",
      "154063941 set()\n",
      "-52269241 {166097523, 78834254, 88737727}\n",
      "143823687 set()\n",
      "-47671221 {34646149}\n",
      "1295330 {1295330}\n",
      "-40009756 {139152386, 123634347, 44478619, 39691050, 60729103}\n",
      "139003109 {139003109}\n",
      "-56496665 {78834254, 88737727}\n",
      "136725356 set()\n",
      "143308017 {143308017}\n",
      "114645622 set()\n",
      "48027510 set()\n"
     ]
    }
   ],
   "source": [
    "interesting_chats = set([-54333396,-56496665,-15401678,-29830127,70204214,139003109,-52269241,88737727,1295330,-45806290,143308017,-54333396,-56496665,-15401678,-29830127,70204214,139003109,-52269241,88737727,1295330,-45806290,143308017,-40009756,-54333396,143823687,1129005,52899086,-47671221,90642222,152999440,54170301,154063941,-40709103,114645622,29985060,140890798,136725356,48027510,55817279])\n",
    "chat_messages = dict((chat_id,[m for m in messages if m[1]==chat_id]) for chat_id in interesting_chats)\n",
    "chat_users = dict((chat_id, set([m[2] for m in chat_messages[chat_id]])) for chat_id in interesting_chats)\n",
    "\n",
    "new_chats = [chat_id for (chat_id,msgs) in chat_messages.items() if len(msgs) == 0]\n",
    "print('new chats:', len(new_chats),'from',len(interesting_chats))\n",
    "\n",
    "for chat_id in interesting_chats:\n",
    "    print(chat_id, chat_users[chat_id])\n"
   ]
  },
  {
   "cell_type": "code",
   "execution_count": null,
   "metadata": {
    "collapsed": true
   },
   "outputs": [],
   "source": []
  }
 ],
 "metadata": {
  "kernelspec": {
   "display_name": "Python 3",
   "language": "python",
   "name": "python3"
  },
  "language_info": {
   "codemirror_mode": {
    "name": "ipython",
    "version": 3
   },
   "file_extension": ".py",
   "mimetype": "text/x-python",
   "name": "python",
   "nbconvert_exporter": "python",
   "pygments_lexer": "ipython3",
   "version": "3.4.3"
  }
 },
 "nbformat": 4,
 "nbformat_minor": 0
}
