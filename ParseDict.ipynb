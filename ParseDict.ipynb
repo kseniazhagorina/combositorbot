{
 "cells": [
  {
   "cell_type": "raw",
   "metadata": {},
   "source": [
    "Parsing Ozhegov Dictionary.\n",
    "Example of text:\n",
    "запрограммировать|||||<= программировать||\n",
    "запродать|||||заключить предварительное условие об оптовой продаже чего-нибудь||\n",
    "запроектировать|||||<= проектировать1||\n",
    "запрокинуть|||||откинуть назад||З. голову.\n",
    "запрокинуться|||||откинуться назад||Голова запрокинулась.\n",
    "запропаститься|||||исчезнуть, пропасть неизвестно куда||Книга куда-то запропастилась.\n",
    "запропасть|||||== запропаститься||Куда ты запропал?\n",
    "запрос|||||документ, запрашивающий о чем-нибудь(<= запросить N1)||Послать з.\n",
    "запрос|||||потребности, интересы||Культурные запросы молодежи.\n",
    "запрос|||||<= запросить||\n",
    "запросить|||||направить требование об официальном разъяснении какого-нибудь дела, затребовать что-нибудь у кого-нибудь||З. мнение специалистов."
   ]
  },
  {
   "cell_type": "code",
   "execution_count": 87,
   "metadata": {
    "collapsed": false
   },
   "outputs": [],
   "source": [
    "import codecs\n",
    "from collections import defaultdict\n",
    "\n",
    "definitions = defaultdict(list)\n",
    "with codecs.open(r'locale\\ru\\vocab\\ozhegov.txt', 'r', 'utf8') as f:\n",
    "    description = f.readline().split('|')\n",
    "    states = [line.split('|') for line in f]\n",
    "    for s in states:\n",
    "        definitions[s[0]].append(s)"
   ]
  },
  {
   "cell_type": "code",
   "execution_count": 6,
   "metadata": {
    "collapsed": false
   },
   "outputs": [
    {
     "name": "stdout",
     "output_type": "stream",
     "text": [
      "['VOCAB', 'BASEFORM', 'PHONGL', 'GRCLASSGL', 'STYLGL', 'DEF', 'ANTI', 'LEGLEXAM\\r\\n']\n"
     ]
    }
   ],
   "source": [
    "print (description)"
   ]
  },
  {
   "cell_type": "code",
   "execution_count": 88,
   "metadata": {
    "collapsed": false
   },
   "outputs": [],
   "source": [
    "for states in definitions.values():\n",
    "    for i in range(1,len(states)):\n",
    "        if states[i-1][4].startswith('!'):\n",
    "            atakze = states[i][4].rfind(u'а также')\n",
    "            s4 = states[i][4][atakze:] if atakze > 0 else states[i][4]\n",
    "            states[i][4] =states[i-1][4][1:]+' '+ states[i-1][5]+', '+ s4"
   ]
  },
  {
   "cell_type": "code",
   "execution_count": 89,
   "metadata": {
    "collapsed": false
   },
   "outputs": [],
   "source": [
    "import re\n",
    "\n",
    "abbrs = {r'\\bobs\\.?': u'устаревшее',\n",
    "        r'\\bустар\\.': u'устаревшее',\n",
    "        r'\\bстар\\.': u'в старину',\n",
    "        r'\\bColloq\\.?': u'разговорное',\n",
    "        r'\\bразг\\.': u'разговорное',\n",
    "        r'\\bшутл\\.': u'шутлилое',\n",
    "        r'\\bофиц\\.': u'официальное',\n",
    "        r'\\bвысок\\.': u'высокое',\n",
    "        r'\\bупотр\\.': u'употребляется',\n",
    "        r'\\bобл\\.': u'местное',\n",
    "        r'\\bпрост\\.': u'просторечное',\n",
    "        r'-н\\.': u'-нибудь',\n",
    "        r'-л\\.': u'-либо',\n",
    "        r'\\bнеодобр\\.': u'неодобрительное',\n",
    "        r'\\bnon-st\\.': u'',\n",
    "        r'\\bсо знач\\.': u'со значением',\n",
    "        r'\\bперен\\.': u'переносное',\n",
    "        r'\\bв знач\\.': u'в значении',\n",
    "        r'\\bSpec': u'',\n",
    "        r'\\bLib': u'',\n",
    "        r'\\bирон\\.': u'ироничное',\n",
    "        r'\\bспец\\.': u'специальное',\n",
    "        r'\\bкнижн\\.': u'книжное',\n",
    "       }\n",
    "\n",
    "for states in definitions.values():\n",
    "    for s in states:\n",
    "        for (abbr,value) in abbrs.items():\n",
    "            for i in [4,5]:\n",
    "                s[i] = re.sub(abbr, value, s[i], flags=re.IGNORECASE)\n",
    "                s[i] = re.sub(r'\\(-\\w+\\)', '', s[i])  #изобразить (-ать)\n",
    "                s[i] = re.sub(r'==', u'то же, что и ', s[i])\n",
    "                s[i] = re.sub(r'<=', 'от слова ', s[i])\n",
    "                s[i] = re.sub(r'\\d*\\s*N\\d*\\W*\\d*','', s[i], flags=re.IGNORECASE)\n",
    "                s[i] = re.sub(r'[^а-яё0-9\\\",\\.:\\(\\)\\s-]+', '', s[i], flags=re.IGNORECASE)\n",
    "                s[i] = re.sub(r'\\(\\s+', '(', s[i])\n",
    "                s[i] = re.sub(r'\\s+\\)', ')', s[i])\n",
    "                s[i] = re.sub(r'\\s+', ' ', s[i])"
   ]
  },
  {
   "cell_type": "code",
   "execution_count": 92,
   "metadata": {
    "collapsed": true
   },
   "outputs": [],
   "source": [
    "with codecs.open(r'locale\\ru\\vocab\\ozhegov.hint.txt', 'w+', 'utf8') as f:\n",
    "    for word in sorted(definitions.keys()):\n",
    "        for s in definitions[word]:\n",
    "            worddef = (s[4]+' '+s[5]).strip()\n",
    "            if worddef != \"\":\n",
    "                f.write(s[0]+'|'+worddef+'\\n')\n",
    "        "
   ]
  },
  {
   "cell_type": "markdown",
   "metadata": {},
   "source": [
    "Parsing orphography dictionary of Lopatin (to get nouns)"
   ]
  },
  {
   "cell_type": "code",
   "execution_count": 62,
   "metadata": {
    "collapsed": false
   },
   "outputs": [],
   "source": [
    "import pymorphy2\n",
    "import codecs\n",
    "\n",
    "morph = pymorphy2.MorphAnalyzer()\n",
    "\n",
    "nouns = set()\n",
    "adjvs = set()\n",
    "adjends = [u'ый', u'ний', u'кий', u'ой', u'ая', u'яя', u'ое', u'ее']\n",
    "\n",
    "def add(line):\n",
    "    if not any([line.endswith(end) for end in adjends]):\n",
    "        nouns.add(line)\n",
    "    else:\n",
    "        adjvs.add(line)\n",
    "\n",
    "with codecs.open(r'locale\\ru\\vocab\\dicts\\lopatin.txt', 'r', 'utf8') as f:\n",
    "    for line in f:\n",
    "        line = line.strip()\n",
    "        if len(line) == 0 or line[0].isupper() or ' ' in line:\n",
    "            continue\n",
    "        line = line.lower()\n",
    "        if (line.endswith(u'цы') and line[0:-2]+u'ец' in nouns):\n",
    "            continue\n",
    "        forms = morph.parse(line)\n",
    "        for form in forms:\n",
    "            if form.score > 0.01:\n",
    "                if ({'NOUN', 'nomn', 'sing'} in form.tag or \n",
    "                    ({'NOUN', 'nomn', 'plur'} in form.tag and {'NOUN', 'nomn', 'plur'} in form.normalized.tag)):\n",
    "                    add(line)\n",
    "                    break"
   ]
  },
  {
   "cell_type": "code",
   "execution_count": 63,
   "metadata": {
    "collapsed": false
   },
   "outputs": [],
   "source": [
    "with codecs.open(r'locale\\ru\\vocab\\dicts\\lopatin.noun.txt', 'w+', 'utf8') as f:\n",
    "    for noun in sorted(set([n.replace('ё', 'е') for n in nouns])):\n",
    "        f.write(noun + '\\r\\n')\n",
    "with codecs.open(r'locale\\ru\\vocab\\dicts\\lopatin.noun-adj.txt', 'w+', 'utf8') as f:\n",
    "    for word in sorted(set([n.replace('ё', 'е') for n in adjvs])):\n",
    "        f.write(word + '\\r\\n')"
   ]
  },
  {
   "cell_type": "raw",
   "metadata": {},
   "source": [
    "Parsing Zaliznyak Dictionary\n",
    "\n",
    "акробат 6 мо 1а acrobat contortionist distortionist equilibrist tumbler\n",
    "акробатизм 8 м 1а\n",
    "акробатика 6 ж 3а acrobatics tumbling\n",
    "акробатический 8 п 3а!~ acrobatic tumble\n",
    "акробатичность 8 ж 8а\n",
    "акробатичный 8 п 1*а\n",
    "акробатка 6 жо 3*а\n",
    "акробатничать 6 нсв нп 1а\n",
    "акробатство 6 с 1а\n",
    "акробатствовать 6 нсв нп 2а"
   ]
  },
  {
   "cell_type": "code",
   "execution_count": 24,
   "metadata": {
    "collapsed": false
   },
   "outputs": [],
   "source": [
    "import os\n",
    "import codecs\n",
    "zaliznyakdir = r'C:\\StarSoft\\dict\\Z'\n",
    "filenames = next(os.walk(zaliznyakdir))[2]\n",
    "with codecs.open(r'locale\\ru\\vocab\\zaliznyak.txt', 'w+', 'utf8') as fout:\n",
    "    for filename in filenames:\n",
    "        with codecs.open(os.path.join(zaliznyakdir, filename), 'r', 'cp866') as f:\n",
    "            fout.write(f.read()+'\\n')\n"
   ]
  },
  {
   "cell_type": "code",
   "execution_count": 25,
   "metadata": {
    "collapsed": true
   },
   "outputs": [],
   "source": [
    "import re\n",
    "wregex = re.compile(r'^([\\w-]+)\\s\\d\\s([^\\d]+)\\d')\n",
    "lines = []\n",
    "with codecs.open(r'locale\\ru\\vocab\\zaliznyak.txt', 'r', 'utf8') as f:\n",
    "    for line in f:\n",
    "        m = wregex.match(line)\n",
    "        if m:\n",
    "            lines.append([m.group(1), m.group(2).strip()])"
   ]
  },
  {
   "cell_type": "code",
   "execution_count": 39,
   "metadata": {
    "collapsed": false
   },
   "outputs": [],
   "source": [
    "t = set([line[1] for line in lines])\n",
    "#print (t)\n",
    "nountype = {'м//с', 'м//ж', 'мо жо', 'мо-жо', 'м//мо', 'жо', 'с//мн. неод.', 'ж', 'с',\n",
    "            'жо//ж','мо', 'м//ж, ж', 'ж//жо', 'мо-жо жо', 'мн. мо', 'с//ж', 'мн. м', \n",
    "            'со', 'мн. ж', 'мн. с', 'м', 'мо//жо, жо', 'с//м', 'мо//со, со', 'мо со', 'мн. жо', 'мо//жо'}\n",
    "mbnountype = {'жо п',  'м с', 'мн. со'}\n",
    "mn = {'мн. _от_ м', 'мн. _от_ с', 'мн. _от_ ж'}"
   ]
  },
  {
   "cell_type": "code",
   "execution_count": 40,
   "metadata": {
    "collapsed": false
   },
   "outputs": [],
   "source": [
    "with codecs.open(r'locale\\ru\\vocab\\zaliznyak.noun.txt', 'w+', 'utf8') as f:\n",
    "    for line in lines:\n",
    "        if line[1] in nountype:\n",
    "            f.write(line[0]+'\\n')\n",
    "\n",
    "with codecs.open(r'locale\\ru\\vocab\\zaliznyak.mb_noun.txt', 'w+', 'utf8') as f:\n",
    "    for line in lines:\n",
    "        if line[1] in mbnountype or (line[1] not in mn and line[1].startswith('мн. _от_')):\n",
    "            f.write(line[0]+'\\n')"
   ]
  },
  {
   "cell_type": "raw",
   "metadata": {},
   "source": [
    "Parsing Efremova Dictionary\n",
    "\n",
    "владения\n",
    " мн.\n",
    " Территории, находящиеся под управлением кого-л., чего-л.\n",
    "\n",
    "владетель\n",
    " м. устар.\n",
    " 1) Правитель какого-л. феодального государства, княжества и т.п.\n",
    " 2) То же, что: владелец.\n",
    "\n",
    "владетельница\n",
    " ж. устар.\n",
    " Женск. к сущ.: владетель (2).\n"
   ]
  },
  {
   "cell_type": "code",
   "execution_count": null,
   "metadata": {
    "collapsed": true
   },
   "outputs": [],
   "source": [
    "with codecs.open(r'locale\\ru\\vocab\\efremova.txt')"
   ]
  },
  {
   "cell_type": "raw",
   "metadata": {},
   "source": [
    "Parsing Hagen fullparadigm Dictionary \n",
    "\n",
    "апатически | нар опред кач | 198311\n",
    " \n",
    "апатический | прл ед муж им | 100671\n",
    "  апатического | прл ед муж род | 457943\n",
    "  апатическому | прл ед муж дат | 457944\n",
    "  апатического | прл ед муж вин одуш | 457948\n",
    "  апатический | прл ед муж вин неод | 457945"
   ]
  },
  {
   "cell_type": "code",
   "execution_count": 55,
   "metadata": {
    "collapsed": false
   },
   "outputs": [],
   "source": [
    "word_groups = [[]]\n",
    "with codecs.open(r'locale\\ru\\vocab\\dicts\\hagen_fullparadigm.txt') as f:\n",
    "    for line in f:        \n",
    "        \n",
    "        if line.strip() == '':\n",
    "            word_groups.append([])\n",
    "        if line.startswith(' '):\n",
    "            continue\n",
    "        word_groups[-1].append(line.split('|'))"
   ]
  },
  {
   "cell_type": "code",
   "execution_count": 74,
   "metadata": {
    "collapsed": false
   },
   "outputs": [],
   "source": [
    "from collections import defaultdict\n",
    "\n",
    "posofword = defaultdict(set)\n",
    "for wgroup in word_groups:\n",
    "    keyword = wgroup[0][0].strip()\n",
    "    if ' ' in keyword:\n",
    "        continue\n",
    "    posofword[keyword].add(wgroup[0][1].split()[0])\n",
    "\n",
    "nouns = []    \n",
    "for wgroup in word_groups:\n",
    "    keyword = wgroup[0][0].strip()\n",
    "    if ' ' in keyword:\n",
    "        continue\n",
    "    if  ' сущ ' in wgroup[0][1] and 'прл' not in posofword[keyword]:\n",
    "        is_sign = ' ед ' in wgroup[0][1]\n",
    "        for word in wgroup:\n",
    "            if not is_sign or ' ед ' in word[1]:\n",
    "                nouns.append(word[0].strip())\n",
    "        "
   ]
  },
  {
   "cell_type": "code",
   "execution_count": 75,
   "metadata": {
    "collapsed": false
   },
   "outputs": [],
   "source": [
    "with codecs.open(r'locale\\ru\\vocab\\dicts\\hagen_fullparadigm.noun.txt', 'w+', 'utf8') as f:\n",
    "    for noun in nouns:\n",
    "        f.write(noun+'\\n')\n",
    "    "
   ]
  },
  {
   "cell_type": "raw",
   "metadata": {},
   "source": [
    "Comparizing dicts"
   ]
  },
  {
   "cell_type": "code",
   "execution_count": 71,
   "metadata": {
    "collapsed": false
   },
   "outputs": [
    {
     "name": "stdout",
     "output_type": "stream",
     "text": [
      "In hagen but not in lopatin:\n",
      "орала проститут молодчество черниленка ремнецветные заверточка курсовая бактероид отгребщик ларго неметчина тестик волюминометр примащивание отсырелость полосочка хирагрик залеживание метатония разгрузчица нанимание флицид трематодоз сдельные элизий похудание малорослость ногай наживщик завербованный\n",
      "15234\n",
      "\n",
      "In hagen but not in zaliznyak:\n",
      "проститут молодчество масленок бактероид отгребщик религиоведение барнаулка сутемь залеживание парогенератор дискетка ногай неокапитализм пирующая территориальность иберка унтер-офицерство перелицовывание родословная выколотчик лизосома лейтенантик долихоцефалия многоногие подмазывание эксгибиционизм переделывательница вручительница вьюновые исчезание\n",
      "27375\n",
      "\n",
      "In lopatin but not in hagen:\n",
      "молибденирование телеангиэктазия сортоучасток технократичность чикагец чур-чура балашихинец аэрогеология фильмохранилище ковеллин киногруппа бессилеть устраивание гидрорежим высокосортность моноспорангий приимец скаутинг-агентство лагман бух скирдорез твистрон автощетка озониоз приемосдатчица ореховка телекинотехника семидесятипятилетие шар-баба стропальщица\n",
      "15750\n",
      "\n",
      "In lopatin but not in zaliznyak:\n",
      "масленок технократичность аэрогеология ковеллин религиоведение барнаулка высокосортность гидрорежим сутемь приимец парогенератор бух дискетка неокапитализм авторадиограмма спортан унтер-офицерство перелицовывание лизосома неуставщина баллистокардиограмма долихоцефалия раскоординированность серраки иосифлянство подмазывание эксгибиционизм вручительница исчезание торсида\n",
      "31042\n",
      "\n",
      "In zaliznyak but not in hagen:\n",
      "фибры приживала прыгалки мушкель мозги отрепья планет экстра мрежа соты калин отсевки ореховка выкрутасы побегушки толки опилки палеосимия кулуары хабара тропики сконто престиссимо жеребей пали вершки разводы прогоны шпроты припасы\n",
      "528\n",
      "\n",
      "In zaliznyak but not in lopatin:\n",
      "мошница рештак тюрк фальцебель агрономша приживала ларго неметчина упокой волюминометр самнит околичность оладья хирагрик абляут пришва полудева метатония кеньга флицид стетография асбестонит подходчик наживщик самонакладчик босняк узничество сонометр инвертин ленто\n",
      "3679\n",
      "\n"
     ]
    }
   ],
   "source": [
    "sets = []\n",
    "with codecs.open(r'locale\\ru\\vocab\\dicts\\hagen_fullparadigm.noun.txt', 'r', 'utf8') as f:\n",
    "    sets.append(('hagen', set([word.strip() for word in f])))\n",
    "with codecs.open(r'locale\\ru\\vocab\\dicts\\lopatin.noun.txt', 'r', 'utf8') as f:\n",
    "    sets.append(('lopatin', set([word.strip() for word in f])))\n",
    "with codecs.open(r'locale\\ru\\vocab\\dicts\\zaliznyak.noun.txt', 'r', 'utf8') as f:\n",
    "    sets.append(('zaliznyak', set([word.strip() for word in f])))\n",
    "\n",
    "for s1 in sets:\n",
    "    for s2 in sets:\n",
    "        if s1[0] == s2[0]:\n",
    "            continue\n",
    "        print('In '+s1[0]+' but not in '+s2[0]+':')\n",
    "        diff = list(s1[1] - s2[1])\n",
    "        print(' '.join(diff[0:30]))\n",
    "        print(len(diff))\n",
    "        print('')\n",
    "\n"
   ]
  },
  {
   "cell_type": "code",
   "execution_count": null,
   "metadata": {
    "collapsed": true
   },
   "outputs": [],
   "source": []
  }
 ],
 "metadata": {
  "kernelspec": {
   "display_name": "Python 3",
   "language": "python",
   "name": "python3"
  },
  "language_info": {
   "codemirror_mode": {
    "name": "ipython",
    "version": 3
   },
   "file_extension": ".py",
   "mimetype": "text/x-python",
   "name": "python",
   "nbconvert_exporter": "python",
   "pygments_lexer": "ipython3",
   "version": "3.4.3"
  }
 },
 "nbformat": 4,
 "nbformat_minor": 0
}
