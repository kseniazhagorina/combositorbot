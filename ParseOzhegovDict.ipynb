{
 "cells": [
  {
   "cell_type": "code",
   "execution_count": 87,
   "metadata": {
    "collapsed": false
   },
   "outputs": [],
   "source": [
    "import codecs\n",
    "from collections import defaultdict\n",
    "\n",
    "definitions = defaultdict(list)\n",
    "with codecs.open(r'locale\\ru\\vocab\\ozhegov.txt', 'r', 'utf8') as f:\n",
    "    description = f.readline().split('|')\n",
    "    states = [line.split('|') for line in f]\n",
    "    for s in states:\n",
    "        definitions[s[0]].append(s)"
   ]
  },
  {
   "cell_type": "code",
   "execution_count": 6,
   "metadata": {
    "collapsed": false
   },
   "outputs": [
    {
     "name": "stdout",
     "output_type": "stream",
     "text": [
      "['VOCAB', 'BASEFORM', 'PHONGL', 'GRCLASSGL', 'STYLGL', 'DEF', 'ANTI', 'LEGLEXAM\\r\\n']\n"
     ]
    }
   ],
   "source": [
    "print (description)"
   ]
  },
  {
   "cell_type": "code",
   "execution_count": 88,
   "metadata": {
    "collapsed": false
   },
   "outputs": [],
   "source": [
    "for states in definitions.values():\n",
    "    for i in range(1,len(states)):\n",
    "        if states[i-1][4].startswith('!'):\n",
    "            atakze = states[i][4].rfind(u'а также')\n",
    "            s4 = states[i][4][atakze:] if atakze > 0 else states[i][4]\n",
    "            states[i][4] =states[i-1][4][1:]+' '+ states[i-1][5]+', '+ s4"
   ]
  },
  {
   "cell_type": "code",
   "execution_count": 70,
   "metadata": {
    "collapsed": false
   },
   "outputs": [
    {
     "data": {
      "text/plain": [
       "''"
      ]
     },
     "execution_count": 70,
     "metadata": {},
     "output_type": "execute_result"
    }
   ],
   "source": [
    "u'лесное травянистое растение сем. розоцветных со с¦едобными ярко-красными кислыми ягодами, а также'.split(u'а также')[-1]"
   ]
  },
  {
   "cell_type": "code",
   "execution_count": 89,
   "metadata": {
    "collapsed": false
   },
   "outputs": [],
   "source": [
    "import re\n",
    "\n",
    "abbrs = {r'\\bobs\\.?': u'устаревшее',\n",
    "        r'\\bустар\\.': u'устаревшее',\n",
    "        r'\\bстар.': u'в старину',\n",
    "        r'\\bColloq\\.?': u'разговорное',\n",
    "        r'\\bразг\\.': u'разговорное',\n",
    "        r'\\bшутл\\.': u'шутлилое',\n",
    "        r'\\bофиц\\.': u'официальное',\n",
    "        r'\\bвысок\\.': u'высокое',\n",
    "        r'\\bупотр\\.': u'употребляется',\n",
    "        r'\\bобл\\.': u'местное',\n",
    "        r'\\bпрост\\.': u'просторечное',\n",
    "        r'-н\\.': u'-нибудь',\n",
    "        r'-л\\.': u'-либо',\n",
    "        r'\\bнеодобр\\.': u'неодобрительное',\n",
    "        r'\\bnon-st\\.': u'',\n",
    "        r'\\bсо знач\\.': u'со значением',\n",
    "        r'\\bперен\\.': u'переносное',\n",
    "        r'\\bв знач\\.': u'в значении',\n",
    "        r'\\bSpec': u'',\n",
    "        r'\\bLib': u'',\n",
    "        r'\\bирон\\.': u'ироничное',\n",
    "        r'\\bспец\\.': u'специальное',\n",
    "        r'\\bкнижн\\.': u'книжное',\n",
    "       }\n",
    "\n",
    "for states in definitions.values():\n",
    "    for s in states:\n",
    "        for (abbr,value) in abbrs.items():\n",
    "            for i in [4,5]:\n",
    "                s[i] = re.sub(abbr, value, s[i], flags=re.IGNORECASE)\n",
    "                s[i] = re.sub(r'\\(-\\w+\\)', '', s[i])  #изобразить (-ать)\n",
    "                s[i] = re.sub(r'==', u'то же, что и ', s[i])\n",
    "                s[i] = re.sub(r'<=', 'от слова ', s[i])\n",
    "                s[i] = re.sub(r'\\d*\\s*N\\d*\\W*\\d*','', s[i], flags=re.IGNORECASE)\n",
    "                s[i] = re.sub(r'[^а-яё0-9\\\",\\.:\\(\\)\\s-]+', '', s[i], flags=re.IGNORECASE)\n",
    "                s[i] = re.sub(r'\\(\\s+', '(', s[i])\n",
    "                s[i] = re.sub(r'\\s+\\)', ')', s[i])\n",
    "                s[i] = re.sub(r'\\s+', ' ', s[i])"
   ]
  },
  {
   "cell_type": "code",
   "execution_count": 92,
   "metadata": {
    "collapsed": true
   },
   "outputs": [],
   "source": [
    "with codecs.open(r'locale\\ru\\vocab\\ozhegov.hint.txt', 'w+', 'utf8') as f:\n",
    "    for word in sorted(definitions.keys()):\n",
    "        for s in definitions[word]:\n",
    "            worddef = (s[4]+' '+s[5]).strip()\n",
    "            if worddef != \"\":\n",
    "                f.write(s[0]+'|'+worddef+'\\n')\n",
    "        "
   ]
  },
  {
   "cell_type": "code",
   "execution_count": null,
   "metadata": {
    "collapsed": true
   },
   "outputs": [],
   "source": []
  }
 ],
 "metadata": {
  "kernelspec": {
   "display_name": "Python 3",
   "language": "python",
   "name": "python3"
  },
  "language_info": {
   "codemirror_mode": {
    "name": "ipython",
    "version": 3
   },
   "file_extension": ".py",
   "mimetype": "text/x-python",
   "name": "python",
   "nbconvert_exporter": "python",
   "pygments_lexer": "ipython3",
   "version": "3.4.3"
  }
 },
 "nbformat": 4,
 "nbformat_minor": 0
}
